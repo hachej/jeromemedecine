{
 "cells": [
  {
   "cell_type": "code",
   "execution_count": 137,
   "metadata": {},
   "outputs": [],
   "source": [
    "import gspread\n",
    "from oauth2client.service_account import ServiceAccountCredentials\n",
    "from selenium import webdriver\n",
    "from selenium.webdriver.support.ui import Select\n",
    "\n",
    "import time \n",
    "\n",
    "def getSheet():\n",
    "    scope = ['https://spreadsheets.google.com/feeds',\n",
    "         'https://www.googleapis.com/auth/drive']\n",
    "    creds = ServiceAccountCredentials.from_json_keyfile_name('client_secret.json', scope)\n",
    "    client = gspread.authorize(creds)\n",
    "\n",
    "    # Find a workbook by name and open the first sheet\n",
    "    # Make sure you use the right name here.\n",
    "    sheet = client.open(\"question\").sheet1\n",
    "    return sheet\n",
    "\n",
    "def getDriver():\n",
    "    driver = webdriver.Chrome(PATH)\n",
    "    driver.get('https://side-sante.fr/learning/training/index')\n",
    "    return driver\n",
    "\n",
    "def getQuestions(driver):\n",
    "    questions = driver.find_elements_by_class_name(\"quest\")\n",
    "    return questions \n",
    "\n",
    "def processQuestion(question):\n",
    "    testBlocks = question.find_elements_by_class_name(\"theia-text-block\")\n",
    "    titre_question = testBlocks[0].text\n",
    "    responses = [testBlocks[i].text for i in range(1,6)] \n",
    "    status = [True if \"success\" in a.get_attribute(\"class\") else False for a in question.find_elements_by_class_name(\"far\")]\n",
    "    return titre_question, responses, status\n",
    "\n",
    "def getIdFromURL(url):\n",
    "    id_ = url.split(\"/\")[-2]\n",
    "    return id_\n",
    "\n",
    "def writeRow(url,numQuestion, titreQuestion, responses, status):\n",
    "    row = [\n",
    "        getIdFromURL(url),\n",
    "        numQuestion,\n",
    "        titreQuestion\n",
    "        ]\n",
    "    row += [s*1 for s in status]\n",
    "    row += responses    \n",
    "    sheet.append_row(row)\n",
    "    "
   ]
  },
  {
   "cell_type": "code",
   "execution_count": 151,
   "metadata": {},
   "outputs": [],
   "source": [
    "PATH = \"/Users/juhache/Desktop/testje/chromedriver\"\n",
    "\n",
    "correctionsURL = [\n",
    "    \"https://side-sante.fr/playtest/classic/view/correction/80309594/1\",\n",
    "    \"https://side-sante.fr/playtest/classic/view/correction/80309609/1\",\n",
    "    \"https://side-sante.fr/playtest/classic/view/correction/80309516/1\",\n",
    "    \"https://side-sante.fr/playtest/classic/view/correction/80309617/1\",\n",
    "    \"https://side-sante.fr/playtest/classic/view/correction/79987472/1\",\n",
    "    \"https://side-sante.fr/playtest/classic/view/correction/80309620/1\",\n",
    "    \"https://side-sante.fr/playtest/classic/view/correction/80309622/1\",\n",
    "    \"https://side-sante.fr/playtest/classic/view/correction/80309623/1\",\n",
    "    \"https://side-sante.fr/playtest/classic/view/correction/80309624/1\",\n",
    "    \"https://side-sante.fr/playtest/classic/view/correction/80309625/1\",\n",
    "    \"https://side-sante.fr/playtest/classic/view/correction/80309627/1\",\n",
    "    \"https://side-sante.fr/playtest/classic/view/correction/80309628/1\",\n",
    "    \"https://side-sante.fr/playtest/classic/view/correction/74325863/1\",\n",
    "    \"https://side-sante.fr/playtest/classic/view/correction/80309631/1\",\n",
    "    \"https://side-sante.fr/playtest/classic/view/correction/80309634/1\",\n",
    "    \"https://side-sante.fr/playtest/classic/view/correction/80309635/1\"\n",
    "]"
   ]
  },
  {
   "cell_type": "code",
   "execution_count": 195,
   "metadata": {},
   "outputs": [],
   "source": [
    "driver = getDriver()\n",
    "sheet = getSheet()"
   ]
  },
  {
   "cell_type": "code",
   "execution_count": 196,
   "metadata": {},
   "outputs": [],
   "source": [
    "# auth\n",
    "driver.get('https://side-sante.fr/learning/training/index')\n",
    "\n",
    "select = Select(driver.find_element_by_id('theia_choice_casserver_casserver'))\n",
    "select.select_by_value('20')\n",
    "select.select_by_value('21')\n",
    "time.sleep(2)\n",
    "driver.find_elements_by_class_name('btn-primary')[1].click()\n",
    "\n",
    "time.sleep(2)\n",
    "\n",
    "driver.find_elements_by_id(\"username\")[0].send_keys(\"jerome.wendling@etu.umontpellier.fr\");\n",
    "driver.find_elements_by_id(\"password\")[0].send_keys(\"\");\n",
    "driver.find_elements_by_class_name('btn-submit')[0].click()"
   ]
  },
  {
   "cell_type": "code",
   "execution_count": null,
   "metadata": {},
   "outputs": [
    {
     "name": "stdout",
     "output_type": "stream",
     "text": [
      "https://side-sante.fr/playtest/classic/view/correction/80309620/1\n",
      "24  questions found\n",
      "https://side-sante.fr/playtest/classic/view/correction/80309622/1\n",
      "20  questions found\n",
      "https://side-sante.fr/playtest/classic/view/correction/80309623/1\n",
      "30  questions found\n"
     ]
    }
   ],
   "source": [
    "# get data and append to sheet\n",
    "\n",
    "for url in correctionsURL[5:]:\n",
    "    print(url)\n",
    "    driver.get(url)\n",
    "    time.sleep(2)\n",
    "    questions = getQuestions(driver)\n",
    "    print(len(questions[1:]),\" questions found\")\n",
    "    for questionNumber,question in enumerate(questions[1:]):\n",
    "        titre_question, responses, status = processQuestion(question)\n",
    "        try:\n",
    "            writeRow(url,questionNumber+1, titre_question, responses, status)\n",
    "        except:\n",
    "            print(\"sleep\")\n",
    "            time.sleep(80)\n",
    "            try:\n",
    "                writeRow(url,questionNumber+1, titre_question, responses, status)\n",
    "            except:\n",
    "                print(\"sleep 2\")\n",
    "                time.sleep(200)\n",
    "                writeRow(url,questionNumber+1, titre_question, responses, status)\n",
    "        row +=1"
   ]
  },
  {
   "cell_type": "code",
   "execution_count": 159,
   "metadata": {
    "collapsed": true
   },
   "outputs": [
    {
     "ename": "KeyboardInterrupt",
     "evalue": "",
     "output_type": "error",
     "traceback": [
      "\u001b[0;31m---------------------------------------------------------------------------\u001b[0m",
      "\u001b[0;31mKeyboardInterrupt\u001b[0m                         Traceback (most recent call last)",
      "\u001b[0;32m<ipython-input-159-9d6e87db2a5f>\u001b[0m in \u001b[0;36m<module>\u001b[0;34m\u001b[0m\n\u001b[0;32m----> 1\u001b[0;31m \u001b[0;32mimport\u001b[0m \u001b[0mpandas\u001b[0m \u001b[0;32mas\u001b[0m \u001b[0mpd\u001b[0m\u001b[0;34m\u001b[0m\u001b[0;34m\u001b[0m\u001b[0m\n\u001b[0m\u001b[1;32m      2\u001b[0m \u001b[0mdf2\u001b[0m \u001b[0;34m=\u001b[0m \u001b[0mpd\u001b[0m\u001b[0;34m.\u001b[0m\u001b[0mDataFrame\u001b[0m\u001b[0;34m(\u001b[0m\u001b[0;34m{\u001b[0m\u001b[0;34m'col1'\u001b[0m\u001b[0;34m:\u001b[0m \u001b[0;34m[\u001b[0m\u001b[0;34m'a1'\u001b[0m\u001b[0;34m,\u001b[0m \u001b[0;34m'a2'\u001b[0m\u001b[0;34m,\u001b[0m \u001b[0;34m'a3'\u001b[0m\u001b[0;34m]\u001b[0m\u001b[0;34m,\u001b[0m \u001b[0;34m'col2'\u001b[0m\u001b[0;34m:\u001b[0m \u001b[0;34m[\u001b[0m\u001b[0;34m'b1'\u001b[0m\u001b[0;34m,\u001b[0m \u001b[0;34m'b2'\u001b[0m\u001b[0;34m,\u001b[0m \u001b[0;34m'b3'\u001b[0m\u001b[0;34m]\u001b[0m\u001b[0;34m}\u001b[0m\u001b[0;34m)\u001b[0m  \u001b[0;31m# This is a sample value.\u001b[0m\u001b[0;34m\u001b[0m\u001b[0;34m\u001b[0m\u001b[0m\n\u001b[1;32m      3\u001b[0m \u001b[0mvalues\u001b[0m \u001b[0;34m=\u001b[0m \u001b[0mdf2\u001b[0m\u001b[0;34m.\u001b[0m\u001b[0mvalues\u001b[0m\u001b[0;34m.\u001b[0m\u001b[0mtolist\u001b[0m\u001b[0;34m(\u001b[0m\u001b[0;34m)\u001b[0m\u001b[0;34m\u001b[0m\u001b[0;34m\u001b[0m\u001b[0m\n\u001b[1;32m      4\u001b[0m \u001b[0msh\u001b[0m\u001b[0;34m.\u001b[0m\u001b[0mvalues_append\u001b[0m\u001b[0;34m(\u001b[0m\u001b[0msheetName\u001b[0m\u001b[0;34m,\u001b[0m \u001b[0;34m{\u001b[0m\u001b[0;34m'valueInputOption'\u001b[0m\u001b[0;34m:\u001b[0m \u001b[0;34m'USER_ENTERED'\u001b[0m\u001b[0;34m}\u001b[0m\u001b[0;34m,\u001b[0m \u001b[0;34m{\u001b[0m\u001b[0;34m'values'\u001b[0m\u001b[0;34m:\u001b[0m \u001b[0mvalues\u001b[0m\u001b[0;34m}\u001b[0m\u001b[0;34m)\u001b[0m\u001b[0;34m\u001b[0m\u001b[0;34m\u001b[0m\u001b[0m\n",
      "\u001b[0;32m~/Desktop/testje/lib/python3.9/site-packages/pandas/__init__.py\u001b[0m in \u001b[0;36m<module>\u001b[0;34m\u001b[0m\n\u001b[1;32m     28\u001b[0m \u001b[0;34m\u001b[0m\u001b[0m\n\u001b[1;32m     29\u001b[0m \u001b[0;32mtry\u001b[0m\u001b[0;34m:\u001b[0m\u001b[0;34m\u001b[0m\u001b[0;34m\u001b[0m\u001b[0m\n\u001b[0;32m---> 30\u001b[0;31m     \u001b[0;32mfrom\u001b[0m \u001b[0mpandas\u001b[0m\u001b[0;34m.\u001b[0m\u001b[0m_libs\u001b[0m \u001b[0;32mimport\u001b[0m \u001b[0mhashtable\u001b[0m \u001b[0;32mas\u001b[0m \u001b[0m_hashtable\u001b[0m\u001b[0;34m,\u001b[0m \u001b[0mlib\u001b[0m \u001b[0;32mas\u001b[0m \u001b[0m_lib\u001b[0m\u001b[0;34m,\u001b[0m \u001b[0mtslib\u001b[0m \u001b[0;32mas\u001b[0m \u001b[0m_tslib\u001b[0m\u001b[0;34m\u001b[0m\u001b[0;34m\u001b[0m\u001b[0m\n\u001b[0m\u001b[1;32m     31\u001b[0m \u001b[0;32mexcept\u001b[0m \u001b[0mImportError\u001b[0m \u001b[0;32mas\u001b[0m \u001b[0me\u001b[0m\u001b[0;34m:\u001b[0m  \u001b[0;31m# pragma: no cover\u001b[0m\u001b[0;34m\u001b[0m\u001b[0;34m\u001b[0m\u001b[0m\n\u001b[1;32m     32\u001b[0m     \u001b[0;31m# hack but overkill to use re\u001b[0m\u001b[0;34m\u001b[0m\u001b[0;34m\u001b[0m\u001b[0;34m\u001b[0m\u001b[0m\n",
      "\u001b[0;32m~/Desktop/testje/lib/python3.9/site-packages/pandas/_libs/__init__.py\u001b[0m in \u001b[0;36m<module>\u001b[0;34m\u001b[0m\n\u001b[1;32m     11\u001b[0m \u001b[0;34m\u001b[0m\u001b[0m\n\u001b[1;32m     12\u001b[0m \u001b[0;34m\u001b[0m\u001b[0m\n\u001b[0;32m---> 13\u001b[0;31m \u001b[0;32mfrom\u001b[0m \u001b[0mpandas\u001b[0m\u001b[0;34m.\u001b[0m\u001b[0m_libs\u001b[0m\u001b[0;34m.\u001b[0m\u001b[0minterval\u001b[0m \u001b[0;32mimport\u001b[0m \u001b[0mInterval\u001b[0m\u001b[0;34m\u001b[0m\u001b[0;34m\u001b[0m\u001b[0m\n\u001b[0m\u001b[1;32m     14\u001b[0m from pandas._libs.tslibs import (\n\u001b[1;32m     15\u001b[0m     \u001b[0mNaT\u001b[0m\u001b[0;34m,\u001b[0m\u001b[0;34m\u001b[0m\u001b[0;34m\u001b[0m\u001b[0m\n",
      "\u001b[0;32mpandas/_libs/interval.pyx\u001b[0m in \u001b[0;36minit pandas._libs.interval\u001b[0;34m()\u001b[0m\n",
      "\u001b[0;32mpandas/_libs/hashtable.pyx\u001b[0m in \u001b[0;36minit pandas._libs.hashtable\u001b[0;34m()\u001b[0m\n",
      "\u001b[0;32mpandas/_libs/missing.pyx\u001b[0m in \u001b[0;36minit pandas._libs.missing\u001b[0;34m()\u001b[0m\n",
      "\u001b[0;32m~/Desktop/testje/lib/python3.9/site-packages/pandas/_libs/tslibs/__init__.py\u001b[0m in \u001b[0;36m<module>\u001b[0;34m\u001b[0m\n\u001b[1;32m     28\u001b[0m \u001b[0;34m\u001b[0m\u001b[0m\n\u001b[1;32m     29\u001b[0m \u001b[0;32mfrom\u001b[0m \u001b[0;34m.\u001b[0m \u001b[0;32mimport\u001b[0m \u001b[0mdtypes\u001b[0m\u001b[0;34m\u001b[0m\u001b[0;34m\u001b[0m\u001b[0m\n\u001b[0;32m---> 30\u001b[0;31m \u001b[0;32mfrom\u001b[0m \u001b[0;34m.\u001b[0m\u001b[0mconversion\u001b[0m \u001b[0;32mimport\u001b[0m \u001b[0mOutOfBoundsTimedelta\u001b[0m\u001b[0;34m,\u001b[0m \u001b[0mlocalize_pydatetime\u001b[0m\u001b[0;34m\u001b[0m\u001b[0;34m\u001b[0m\u001b[0m\n\u001b[0m\u001b[1;32m     31\u001b[0m \u001b[0;32mfrom\u001b[0m \u001b[0;34m.\u001b[0m\u001b[0mdtypes\u001b[0m \u001b[0;32mimport\u001b[0m \u001b[0mResolution\u001b[0m\u001b[0;34m\u001b[0m\u001b[0;34m\u001b[0m\u001b[0m\n\u001b[1;32m     32\u001b[0m \u001b[0;32mfrom\u001b[0m \u001b[0;34m.\u001b[0m\u001b[0mnattype\u001b[0m \u001b[0;32mimport\u001b[0m \u001b[0mNaT\u001b[0m\u001b[0;34m,\u001b[0m \u001b[0mNaTType\u001b[0m\u001b[0;34m,\u001b[0m \u001b[0miNaT\u001b[0m\u001b[0;34m,\u001b[0m \u001b[0mis_null_datetimelike\u001b[0m\u001b[0;34m,\u001b[0m \u001b[0mnat_strings\u001b[0m\u001b[0;34m\u001b[0m\u001b[0;34m\u001b[0m\u001b[0m\n",
      "\u001b[0;32mpandas/_libs/tslibs/conversion.pyx\u001b[0m in \u001b[0;36minit pandas._libs.tslibs.conversion\u001b[0;34m()\u001b[0m\n",
      "\u001b[0;32mpandas/_libs/tslibs/parsing.pyx\u001b[0m in \u001b[0;36minit pandas._libs.tslibs.parsing\u001b[0;34m()\u001b[0m\n",
      "\u001b[0;32m/usr/local/Cellar/python@3.9/3.9.0_1/Frameworks/Python.framework/Versions/3.9/lib/python3.9/importlib/_bootstrap.py\u001b[0m in \u001b[0;36mparent\u001b[0;34m(self)\u001b[0m\n",
      "\u001b[0;31mKeyboardInterrupt\u001b[0m: "
     ]
    }
   ],
   "source": [
    "import pandas as pd\n",
    "df2 = pd.DataFrame({'col1': ['a1', 'a2', 'a3'], 'col2': ['b1', 'b2', 'b3']})  # This is a sample value.\n",
    "values = df2.values.tolist()"
   ]
  }
 ],
 "metadata": {
  "kernelspec": {
   "display_name": "Python 3",
   "language": "python",
   "name": "python3"
  },
  "language_info": {
   "codemirror_mode": {
    "name": "ipython",
    "version": 3
   },
   "file_extension": ".py",
   "mimetype": "text/x-python",
   "name": "python",
   "nbconvert_exporter": "python",
   "pygments_lexer": "ipython3",
   "version": "3.9.0"
  }
 },
 "nbformat": 4,
 "nbformat_minor": 4
}
