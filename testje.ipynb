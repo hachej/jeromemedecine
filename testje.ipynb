{
 "cells": [
  {
   "cell_type": "code",
   "execution_count": 28,
   "metadata": {},
   "outputs": [],
   "source": [
    "import gspread\n",
    "from oauth2client.service_account import ServiceAccountCredentials\n",
    "from selenium import webdriver\n",
    "\n",
    "PATH = \"/Users/juhache/Desktop/testje/chromedriver\"\n",
    "\n",
    "\n",
    "def getSheet():\n",
    "    scope = ['https://spreadsheets.google.com/feeds',\n",
    "         'https://www.googleapis.com/auth/drive']\n",
    "    creds = ServiceAccountCredentials.from_json_keyfile_name('client_secret.json', scope)\n",
    "    client = gspread.authorize(creds)\n",
    "\n",
    "    # Find a workbook by name and open the first sheet\n",
    "    # Make sure you use the right name here.\n",
    "    sheet = client.open(\"question\").sheet1\n",
    "    return sheet\n",
    "\n",
    "def getDriver():\n",
    "    driver = webdriver.Chrome(PATH)\n",
    "    driver.get('https://side-sante.fr/learning/training/index')\n",
    "\n",
    "def getQuestions(driver):\n",
    "    questions = driver.find_elements_by_class_name(\"quest\")\n",
    "    return questions \n",
    "\n",
    "def processQuestion(question):\n",
    "    testBlocks = question.find_elements_by_class_name(\"theia-text-block\")\n",
    "    titre_question = testBlocks[0].get_attribute('innerHTML').split(\"<p>\")[1].split(\"</p>\")[0]\n",
    "    responses = [testBlocks[i].get_attribute('innerHTML').split(\"<p>\")[1].split(\"</p>\")[0] for i in range(1,6)] \n",
    "    status = [True if \"success\" in a.get_attribute(\"class\") else False for a in questions[1].find_elements_by_class_name(\"far\")]\n",
    "    return titre_question, responses, status\n"
   ]
  },
  {
   "cell_type": "code",
   "execution_count": 29,
   "metadata": {},
   "outputs": [],
   "source": [
    "driver = getDriver()\n",
    "sheet = getSheet()"
   ]
  },
  {
   "cell_type": "code",
   "execution_count": null,
   "metadata": {},
   "outputs": [],
   "source": [
    "questions = getQuestions(driver)\n",
    "questionProcessed = [processQuestion(q) for q in questions[1:]]\n",
    "questionProcessed"
   ]
  },
  {
   "cell_type": "code",
   "execution_count": 33,
   "metadata": {},
   "outputs": [
    {
     "data": {
      "text/plain": [
       "{'spreadsheetId': '1uaTO7-RBkZY7lKql3kAqxZt-zMPi2wELI4AqqtATnio',\n",
       " 'updatedRange': 'stats!G9',\n",
       " 'updatedRows': 1,\n",
       " 'updatedColumns': 1,\n",
       " 'updatedCells': 1}"
      ]
     },
     "execution_count": 33,
     "metadata": {},
     "output_type": "execute_result"
    }
   ],
   "source": [
    "# Extract and print all of the values\n",
    "row = 9\n",
    "sheet.update_cell(row,2,\"1\")\n",
    "sheet.update_cell(row, 2, \"le texte de la question\")\n",
    "sheet.update_cell(row, 3, 1)\n",
    "sheet.update_cell(row, 4, 0)\n",
    "sheet.update_cell(row, 5, 1)\n",
    "sheet.update_cell(row, 6, 1)\n",
    "sheet.update_cell(row, 7, 1)"
   ]
  }
 ],
 "metadata": {
  "kernelspec": {
   "display_name": "Python 3",
   "language": "python",
   "name": "python3"
  },
  "language_info": {
   "codemirror_mode": {
    "name": "ipython",
    "version": 3
   },
   "file_extension": ".py",
   "mimetype": "text/x-python",
   "name": "python",
   "nbconvert_exporter": "python",
   "pygments_lexer": "ipython3",
   "version": "3.9.0"
  }
 },
 "nbformat": 4,
 "nbformat_minor": 4
}
